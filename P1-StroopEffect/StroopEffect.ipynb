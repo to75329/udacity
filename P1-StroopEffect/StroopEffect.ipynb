{
 "cells": [
  {
   "cell_type": "markdown",
   "metadata": {},
   "source": [
    "# P1 Udacity Project: Stroop Effect - S.Jaeger submission\n",
    "\n",
    "## Background Information\n",
    "\n",
    "In a Stroop task, participants are presented with a list of words, with each word displayed in a color of ink. The participant’s task is to say out loud the color of the ink in which the word is printed. The task has two conditions: a congruent words condition, and an incongruent words condition. In the congruent words condition, the words being displayed are color words whose names match the colors in which they are printed. In the incongruent words condition, the words displayed are color words whose names do not match the colors in which they are printed. In each case, we measure the time it takes to name the ink colors in equally-sized lists. Each participant will go through and record a time from each condition.\n",
    "\n",
    "Psytoolkit.org [3] proposes below picture as an illustration:\n",
    "![](http://www.psytoolkit.org/lessons/stroop.png)\n",
    "\n",
    "\n",
    "## Assignment\n",
    "\n",
    "**Question 1**: What is our independent variable? What is our dependent variable?\n",
    "\n",
    "**Answer**: Our dependent variable is the time taken to name the ink colors in a list. Our independant variable is the type of the list of words and associated color used for a given task: This variable can only take two values, either \"incongruent\" or  \"congruent\" depending on the condition (list of words and their color matching or not) applied.\n",
    "The stroop experiment is conducted to see the influence of this variable over the response time. \n"
   ]
  },
  {
   "cell_type": "markdown",
   "metadata": {},
   "source": [
    "**Question 2**: What is an appropriate set of hypotheses for this task? What kind of statistical test do you expect to perform? Justify your choices.\n",
    "\n",
    "**Answer**:Let us call X<sub>c</sub> the variable of the time taken by a given person answering the congruent test and X<sub>i</sub> the variable of the time taken by a given person answering the incongruent test. We can say that X<sub>c</sub> and X<sub>i</sub> are not totally independant in the context of this experiment as the same people are doing each test. Besides, nothing is said on the order in which they take the test, is it random or consistent ? For this reason it is even more relevant to consider X<sub>i</sub> and X<sub>c</sub> as dependant variables.\n",
    "We are also not aware about the whole population parameters and just have <B>a pair</B> of dependant samples, one for each task.<BR>\n",
    "For those reasons we consider doing a dependant sample t-test, also known as paired t-test, with following hypotheses: \n",
    "- H<sub>0</sub> or null hypothesis: Congruency has no effect on the stroop task results: \\begin{equation}\\mu_d = \\mu_i\n",
    "-\\mu_c = 0\\end{equation}\n",
    "- H<sub>a</sub> or alternative hypothesis: Congruency has an effect on the stroop task results: \\begin{equation}\\mu_d = \\mu_i -\\mu_c \\neq 0\\end{equation}\n",
    " \n",
    "<B>Note1:</B>$\\mu$ represents the population mean response time, $\\mu_i$, the population mean response time to the incongruent task condition, $\\mu_c$ the population mean resonse time to the congruent task condition.  \n",
    "<B>Note2:</B> We can have the intuition that incongruency may generally increase the time taken by people to achieve the stroop task, however, as we are not sure about that, we prefer to keep above mentioned alternative hypothesis and not doing any assumptions on the results. For this reason we will carry out a <B>two tailed</B> dependant sample t-test using: \\begin{equation}\\alpha = .05 \\end{equation}.  "
   ]
  },
  {
   "cell_type": "markdown",
   "metadata": {},
   "source": [
    "**Question 2.1**:Now it’s your chance to try out the Stroop task for yourself. Go to this link , which has a Java-based applet for performing the Stroop task. Record the times that you received on the task (you do not need to submit your times to the site.):\n",
    "\n",
    "**Answer**: My time is <B>33.412s</B> for the congruant task & <B>45.981s</B> for the incongruant one. Almost 1.5 more time for the incongruant task than for the congruent one."
   ]
  },
  {
   "cell_type": "markdown",
   "metadata": {},
   "source": [
    "**Question 3 & 4**:Now, download this dataset which contains results from a number of participants in the task. Each row of the dataset contains the performance for one participant, with the first number their results on the congruent task and the second number their performance on the incongruent task.\n",
    "\n",
    "Report some descriptive statistics regarding this dataset. Include at least one measure of central tendency and at least one measure of variability.\n",
    "\n",
    "Provide one or two visualizations that show the distribution of the sample data. Write one or two sentences noting what you observe about the plot or plots.\n",
    "\n",
    "**Answer**: See below."
   ]
  },
  {
   "cell_type": "code",
   "execution_count": 2,
   "metadata": {
    "collapsed": true
   },
   "outputs": [],
   "source": [
    "# import all necessary packages and functions.\n",
    "import csv\n",
    "import numpy as np\n",
    "import pandas as pd\n",
    "import math\n",
    "from IPython.display import display\n",
    "import matplotlib.pyplot as plt\n",
    "%matplotlib inline"
   ]
  },
  {
   "cell_type": "code",
   "execution_count": 3,
   "metadata": {
    "collapsed": false
   },
   "outputs": [
    {
     "data": {
      "text/html": [
       "<div>\n",
       "<table border=\"1\" class=\"dataframe\">\n",
       "  <thead>\n",
       "    <tr style=\"text-align: right;\">\n",
       "      <th></th>\n",
       "      <th>Congruent</th>\n",
       "      <th>Incongruent</th>\n",
       "      <th>Difference</th>\n",
       "    </tr>\n",
       "  </thead>\n",
       "  <tbody>\n",
       "    <tr>\n",
       "      <th>0</th>\n",
       "      <td>12.079</td>\n",
       "      <td>19.278</td>\n",
       "      <td>7.199</td>\n",
       "    </tr>\n",
       "    <tr>\n",
       "      <th>1</th>\n",
       "      <td>16.791</td>\n",
       "      <td>18.741</td>\n",
       "      <td>1.950</td>\n",
       "    </tr>\n",
       "    <tr>\n",
       "      <th>2</th>\n",
       "      <td>9.564</td>\n",
       "      <td>21.214</td>\n",
       "      <td>11.650</td>\n",
       "    </tr>\n",
       "    <tr>\n",
       "      <th>3</th>\n",
       "      <td>8.630</td>\n",
       "      <td>15.687</td>\n",
       "      <td>7.057</td>\n",
       "    </tr>\n",
       "    <tr>\n",
       "      <th>4</th>\n",
       "      <td>14.669</td>\n",
       "      <td>22.803</td>\n",
       "      <td>8.134</td>\n",
       "    </tr>\n",
       "  </tbody>\n",
       "</table>\n",
       "</div>"
      ],
      "text/plain": [
       "   Congruent  Incongruent  Difference\n",
       "0     12.079       19.278       7.199\n",
       "1     16.791       18.741       1.950\n",
       "2      9.564       21.214      11.650\n",
       "3      8.630       15.687       7.057\n",
       "4     14.669       22.803       8.134"
      ]
     },
     "execution_count": 3,
     "metadata": {},
     "output_type": "execute_result"
    }
   ],
   "source": [
    "# file locations\n",
    "file_in  = 'stroopdata.csv'\n",
    "\n",
    "# Create a single dataframe to store all samples and differences\n",
    "dataframe = pd.read_csv(file_in)\n",
    "\n",
    "# Computing difference between samples\n",
    "congruentSample = dataframe['Congruent']\n",
    "incongruentSample = dataframe['Incongruent']\n",
    "\n",
    "# Storing difference within main dataframe & checking for results\n",
    "differenceSample = incongruentSample - congruentSample\n",
    "dataframe.insert(2, \"Difference\", differenceSample)\n",
    "dataframe.head()"
   ]
  },
  {
   "cell_type": "code",
   "execution_count": 3,
   "metadata": {
    "collapsed": false
   },
   "outputs": [
    {
     "data": {
      "text/html": [
       "<div>\n",
       "<table border=\"1\" class=\"dataframe\">\n",
       "  <thead>\n",
       "    <tr style=\"text-align: right;\">\n",
       "      <th></th>\n",
       "      <th>Congruent</th>\n",
       "      <th>Incongruent</th>\n",
       "      <th>Difference</th>\n",
       "    </tr>\n",
       "  </thead>\n",
       "  <tbody>\n",
       "    <tr>\n",
       "      <th>count</th>\n",
       "      <td>24.000000</td>\n",
       "      <td>24.000000</td>\n",
       "      <td>24.000000</td>\n",
       "    </tr>\n",
       "    <tr>\n",
       "      <th>mean</th>\n",
       "      <td>14.051125</td>\n",
       "      <td>22.015917</td>\n",
       "      <td>7.964792</td>\n",
       "    </tr>\n",
       "    <tr>\n",
       "      <th>std</th>\n",
       "      <td>3.559358</td>\n",
       "      <td>4.797057</td>\n",
       "      <td>4.864827</td>\n",
       "    </tr>\n",
       "    <tr>\n",
       "      <th>min</th>\n",
       "      <td>8.630000</td>\n",
       "      <td>15.687000</td>\n",
       "      <td>1.950000</td>\n",
       "    </tr>\n",
       "    <tr>\n",
       "      <th>25%</th>\n",
       "      <td>11.895250</td>\n",
       "      <td>18.716750</td>\n",
       "      <td>3.645500</td>\n",
       "    </tr>\n",
       "    <tr>\n",
       "      <th>50%</th>\n",
       "      <td>14.356500</td>\n",
       "      <td>21.017500</td>\n",
       "      <td>7.666500</td>\n",
       "    </tr>\n",
       "    <tr>\n",
       "      <th>75%</th>\n",
       "      <td>16.200750</td>\n",
       "      <td>24.051500</td>\n",
       "      <td>10.258500</td>\n",
       "    </tr>\n",
       "    <tr>\n",
       "      <th>max</th>\n",
       "      <td>22.328000</td>\n",
       "      <td>35.255000</td>\n",
       "      <td>21.919000</td>\n",
       "    </tr>\n",
       "  </tbody>\n",
       "</table>\n",
       "</div>"
      ],
      "text/plain": [
       "       Congruent  Incongruent  Difference\n",
       "count  24.000000    24.000000   24.000000\n",
       "mean   14.051125    22.015917    7.964792\n",
       "std     3.559358     4.797057    4.864827\n",
       "min     8.630000    15.687000    1.950000\n",
       "25%    11.895250    18.716750    3.645500\n",
       "50%    14.356500    21.017500    7.666500\n",
       "75%    16.200750    24.051500   10.258500\n",
       "max    22.328000    35.255000   21.919000"
      ]
     },
     "execution_count": 3,
     "metadata": {},
     "output_type": "execute_result"
    }
   ],
   "source": [
    "dataframe.describe()"
   ]
  },
  {
   "cell_type": "code",
   "execution_count": 4,
   "metadata": {
    "collapsed": false
   },
   "outputs": [
    {
     "data": {
      "image/png": "[encoded data removed]",
      "text/plain": [
       "<matplotlib.figure.Figure at 0x3f7ff28>"
      ]
     },
     "metadata": {},
     "output_type": "display_data"
    }
   ],
   "source": [
    "axes = dataframe.plot(title = \"Box plot of incongruent & congruent samples + Difference between the two\", kind=\"box\")\n",
    "axes = plt.ylabel(\"Time in s\")"
   ]
  },
  {
   "cell_type": "markdown",
   "metadata": {},
   "source": [
    "From those very first results, we can see that congruant mean (14) is much smaller than incongruent one (22) with both having a standard deviation within the same order of magnitude (3,5 vs 4,8). The boxplot makes it even more clear that generally speaking incongruent time is much higher than congruent one.\n",
    "\n",
    "Note: We can see that two records from the Incongruant sample can be considered as outliers."
   ]
  },
  {
   "cell_type": "code",
   "execution_count": 5,
   "metadata": {
    "collapsed": false,
    "scrolled": true
   },
   "outputs": [
    {
     "data": {
      "image/png": "[encoded data removed]",
      "text/plain": [
       "<matplotlib.figure.Figure at 0x9c9bfd0>"
      ]
     },
     "metadata": {},
     "output_type": "display_data"
    }
   ],
   "source": [
    "axes = dataframe.plot(title=\"Histogram view of the two samples and their difference\",kind = \"hist\",alpha=0.5, bins = 10)\n",
    "axes = plt.xlabel(\"Time in s\")"
   ]
  },
  {
   "cell_type": "markdown",
   "metadata": {},
   "source": [
    "This is also confirmed by the above histogram where we see that the green Incongruent distribution is clearly shifted to the right when compared to the blue Congruent distribution (people take more time saying the incongruent list of words). Let us check by doing the t-test whether this difference in time is <b>statistically significant</b> or not."
   ]
  },
  {
   "cell_type": "markdown",
   "metadata": {},
   "source": [
    "**Question 5**: Now, perform the statistical test and report your results. What is your confidence level and your critical statistic value? Do you reject the null hypothesis or fail to reject it? Come to a conclusion in terms of the experiment task. Did the results match up with your expectations?"
   ]
  },
  {
   "cell_type": "code",
   "execution_count": 6,
   "metadata": {
    "collapsed": false
   },
   "outputs": [
    {
     "data": {
      "text/plain": [
       "8.020706944109957"
      ]
     },
     "execution_count": 6,
     "metadata": {},
     "output_type": "execute_result"
    }
   ],
   "source": [
    "#Processing Difference sample t-stat \n",
    "Dtstat = differenceSample.mean()/(differenceSample.std()/math.sqrt(differenceSample.count()))\n",
    "Dtstat"
   ]
  },
  {
   "cell_type": "markdown",
   "metadata": {},
   "source": [
    "**Answer**:\n",
    "As described before we do a two tailed dependant sample t-test with a confidence of 5%, $\\alpha = .05 $ which leaves .0025 on each tail.<BR> \n",
    "There are n = 24 people reciting both lists, so Df = 23.<BR>\n",
    "From the Udacity t-table [5], we retrieve t-criticals = +- 2.069.<BR>\n",
    "As the t-stat of the difference equals 8.02 > 2.069, we reject the null hypothesis and conclude that the difference in time between the incongruent sample and the congruent one is statistically significant with a 95% confidence. In other words, as we expected, it takes significantly longer to say out loud the incongruent word list ($\\mu_i=22$) than the congruent one ($\\mu_c=14$)."
   ]
  },
  {
   "cell_type": "markdown",
   "metadata": {},
   "source": [
    "**Question 6**: Optional: What do you think is responsible for the effects observed? Can you think of an alternative or similar task that would result in a similar effect? Some research about the problem will be helpful for thinking about these two questions!\n",
    "\n",
    "**Answer**: As stated by the Neuroscience for Kids [4], there are two theories that may explain the Stroop effect:\n",
    "- Speed of Processing Theory: the interference occurs because words are read faster than colors are named.\n",
    "- Selective Attention Theory: the interference occurs because naming colors requires more attention than reading words.\n",
    "\n",
    "When doing myself the stroop test (applet), it made me remember about some silly game we used to play when we were kids: One of us was trying to do complex calculations or difficult counts whereas some others were saying out loud some random numbers totally out of context to distract/disturb the one counting. I find this kind of external stimuli designed to decrease performance somehow similar to the stroop task for incongruent words."
   ]
  },
  {
   "cell_type": "markdown",
   "metadata": {},
   "source": [
    "**Sources & References:**<BR><BR>\n",
    "Original text assignment from udacity:<BR>\n",
    "[1] GoogleDocs https://docs.google.com/document/d/1-OkpZLjG_kX9J6LIQ5IltsqMzVWjh36QpnP2RYpVdPU/pub?embedded=True<BR><BR>\n",
    "Background information on Stroop Effect:<BR>\n",
    "[2] Wikipedia https://en.wikipedia.org/wiki/Stroop_effect<BR>\n",
    "[3] Psytoolkit.org http://www.psytoolkit.org/lessons/stroop.html<BR>\n",
    "[4] Neuroscience For Kids https://faculty.washington.edu/chudler/words.html<BR>\n",
    "[5] Udacity t-table https://s3.amazonaws.com/udacity-hosted-downloads/t-table.jpg"
   ]
  },
  {
   "cell_type": "markdown",
   "metadata": {},
   "source": [
    "**Revisions:**<BR>\n",
    "    [1] - Friday the 25th of November, original submission <BR>\n",
    "    [2] - Sunday the 27th of November, corrections after udacity review:<BR>\n",
    "            Correction of the Independant variable.<BR>\n",
    "            Note about $\\mu $ being the population mean.<BR>\n",
    "            Addition of \"Time in s\" mathplotlib axis on the graph, seen in very next udacity lesson."
   ]
  }
 ],
 "metadata": {
  "anaconda-cloud": {},
  "kernelspec": {
   "display_name": "Python [Root]",
   "language": "python",
   "name": "Python [Root]"
  },
  "language_info": {
   "codemirror_mode": {
    "name": "ipython",
    "version": 2
   },
   "file_extension": ".py",
   "mimetype": "text/x-python",
   "name": "python",
   "nbconvert_exporter": "python",
   "pygments_lexer": "ipython2",
   "version": "2.7.12"
  }
 },
 "nbformat": 4,
 "nbformat_minor": 0
}
